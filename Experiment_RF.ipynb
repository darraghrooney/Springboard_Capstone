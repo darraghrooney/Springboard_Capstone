{
 "cells": [
  {
   "cell_type": "code",
   "execution_count": 2,
   "metadata": {
    "collapsed": false
   },
   "outputs": [
    {
     "name": "stdout",
     "output_type": "stream",
     "text": [
      "Using matplotlib backend: Qt5Agg\n"
     ]
    }
   ],
   "source": [
    "import numpy as np\n",
    "from sklearn import svm\n",
    "from scipy.sparse import *\n",
    "from sklearn.ensemble import RandomForestClassifier as RFC\n",
    "import time\n",
    "import pickle\n",
    "\n",
    "%matplotlib\n",
    "%matplotlib inline\n",
    "\n",
    "import matplotlib.pyplot as plt"
   ]
  },
  {
   "cell_type": "code",
   "execution_count": 5,
   "metadata": {
    "collapsed": false
   },
   "outputs": [],
   "source": [
    "loader=np.load('data/Training.npz')\n",
    "X_train = csc_matrix( (loader['training_matrix_data'], loader['training_matrix_indices'], loader['training_matrix_indptr']), shape=loader['training_matrix_shape'])\n",
    "y_train=loader['is_for_home']\n",
    "loader2=np.load('data/CV.npz')\n",
    "X_CV = csc_matrix( (loader2['CV_matrix_data'], loader2['CV_matrix_indices'], loader2['CV_matrix_indptr']), shape=loader2['CV_matrix_shape'])\n",
    "y_CV=loader2['is_for_home']"
   ]
  },
  {
   "cell_type": "code",
   "execution_count": 7,
   "metadata": {
    "collapsed": true
   },
   "outputs": [],
   "source": [
    "deps = [25,50,75,100,125]\n",
    "n_t = [5,10,15,20,30, 50,75, 100]"
   ]
  },
  {
   "cell_type": "code",
   "execution_count": 10,
   "metadata": {
    "collapsed": false
   },
   "outputs": [
    {
     "name": "stdout",
     "output_type": "stream",
     "text": [
      "Processing forests with 5 trees and depth 25\n",
      "Processing forests with 10 trees and depth 25\n",
      "Processing forests with 15 trees and depth 25\n",
      "Processing forests with 20 trees and depth 25\n",
      "Processing forests with 30 trees and depth 25\n",
      "Processing forests with 50 trees and depth 25\n",
      "Processing forests with 75 trees and depth 25\n",
      "Processing forests with 100 trees and depth 25\n",
      "Processing forests with 5 trees and depth 50\n",
      "Processing forests with 10 trees and depth 50\n",
      "Processing forests with 15 trees and depth 50\n",
      "Processing forests with 20 trees and depth 50\n",
      "Processing forests with 30 trees and depth 50\n",
      "Processing forests with 50 trees and depth 50\n",
      "Processing forests with 75 trees and depth 50\n",
      "Processing forests with 100 trees and depth 50\n",
      "Processing forests with 5 trees and depth 75\n",
      "Processing forests with 10 trees and depth 75\n",
      "Processing forests with 15 trees and depth 75\n",
      "Processing forests with 20 trees and depth 75\n",
      "Processing forests with 30 trees and depth 75\n",
      "Processing forests with 50 trees and depth 75\n",
      "Processing forests with 75 trees and depth 75\n",
      "Processing forests with 100 trees and depth 75\n",
      "Processing forests with 5 trees and depth 100\n",
      "Processing forests with 10 trees and depth 100\n",
      "Processing forests with 15 trees and depth 100\n",
      "Processing forests with 20 trees and depth 100\n",
      "Processing forests with 30 trees and depth 100\n",
      "Processing forests with 50 trees and depth 100\n",
      "Processing forests with 75 trees and depth 100\n",
      "Processing forests with 100 trees and depth 100\n",
      "Processing forests with 5 trees and depth 125\n",
      "Processing forests with 10 trees and depth 125\n",
      "Processing forests with 15 trees and depth 125\n",
      "Processing forests with 20 trees and depth 125\n",
      "Processing forests with 30 trees and depth 125\n",
      "Processing forests with 50 trees and depth 125\n",
      "Processing forests with 75 trees and depth 125\n",
      "Processing forests with 100 trees and depth 125\n"
     ]
    }
   ],
   "source": [
    "for jd in deps:\n",
    "    for jt in n_t:\n",
    "        print('Processing forests with ' + str(jt) + ' trees and depth ' + str(jd))\n",
    "        myrfc=RFC(n_estimators=jt,criterion=\"entropy\",max_depth=jd )\n",
    "        myrfc.fit(X_train,y_train)\n",
    "        fn = 'Forest_'+str(jt)+'_'+str(jd)\n",
    "        with open(fn, 'wb') as output:\n",
    "            pickle.dump(myrfc,output)\n"
   ]
  },
  {
   "cell_type": "code",
   "execution_count": 8,
   "metadata": {
    "collapsed": false
   },
   "outputs": [
    {
     "name": "stdout",
     "output_type": "stream",
     "text": [
      "Scores for forests with 5 trees and depth 25\n",
      "0.600246588051 0.558119094704\n",
      "Scores for forests with 10 trees and depth 25\n",
      "0.623916599526 0.566578773896\n",
      "Scores for forests with 15 trees and depth 25\n",
      "0.643509363022 0.576942796455\n",
      "Scores for forests with 20 trees and depth 25\n",
      "0.64659781733 0.577931590127\n",
      "Scores for forests with 30 trees and depth 25\n",
      "0.653604824337 0.583571376254\n",
      "Scores for forests with 50 trees and depth 25\n",
      "0.664701286653 0.589614004248\n",
      "Scores for forests with 75 trees and depth 25\n",
      "0.660123538172 0.587270197026\n",
      "Scores for forests with 100 trees and depth 25\n",
      "0.660965843893 0.587636416905\n",
      "Scores for forests with 5 trees and depth 50\n",
      "0.698527796089 0.590236578041\n",
      "Scores for forests with 10 trees and depth 50\n",
      "0.736492590151 0.596975023804\n",
      "Scores for forests with 15 trees and depth 50\n",
      "0.77095388071 0.618581996631\n",
      "Scores for forests with 20 trees and depth 50\n",
      "0.785297492615 0.616860763202\n",
      "Scores for forests with 30 trees and depth 50\n",
      "0.795344124612 0.623452721014\n",
      "Scores for forests with 50 trees and depth 50\n",
      "0.807734563832 0.631289826412\n",
      "Scores for forests with 75 trees and depth 50\n",
      "0.810920676774 0.629715080935\n",
      "Scores for forests with 100 trees and depth 50\n",
      "0.81472936351 0.633706877609\n",
      "Scores for forests with 5 trees and depth 75\n",
      "0.772260064943 0.607632022266\n",
      "Scores for forests with 10 trees and depth 75\n",
      "0.826118801729 0.622573793306\n",
      "Scores for forests with 15 trees and depth 75\n",
      "0.853451011988 0.634292829415\n",
      "Scores for forests with 20 trees and depth 75\n",
      "0.86342440001 0.63912693181\n",
      "Scores for forests with 30 trees and depth 75\n",
      "0.87225029908 0.638357870065\n",
      "Scores for forests with 50 trees and depth 75\n",
      "0.891208281452 0.6487951366\n",
      "Scores for forests with 75 trees and depth 75\n",
      "0.897409604727 0.651798139603\n",
      "Scores for forests with 100 trees and depth 75\n",
      "0.897934519886 0.651138943822\n",
      "Scores for forests with 5 trees and depth 100\n",
      "0.816999926756 0.613528162309\n",
      "Scores for forests with 10 trees and depth 100\n",
      "0.869503649991 0.633816743573\n",
      "Scores for forests with 15 trees and depth 100\n",
      "0.89566395664 0.644290632096\n",
      "Scores for forests with 20 trees and depth 100\n",
      "0.904209087136 0.648392294734\n",
      "Scores for forests with 30 trees and depth 100\n",
      "0.91805219854 0.648099318831\n",
      "Scores for forests with 50 trees and depth 100\n",
      "0.927122244195 0.656009668205\n",
      "Scores for forests with 75 trees and depth 100\n",
      "0.933286945482 0.657987255548\n",
      "Scores for forests with 100 trees and depth 100\n",
      "0.936143460534 0.6581337435\n",
      "Scores for forests with 5 trees and depth 125\n",
      "0.856551673625 0.623452721014\n",
      "Scores for forests with 10 trees and depth 125\n",
      "0.901694377304 0.644510364023\n",
      "Scores for forests with 15 trees and depth 125\n",
      "0.916843672941 0.646194975463\n",
      "Scores for forests with 20 trees and depth 125\n",
      "0.927183280842 0.653446129056\n",
      "Scores for forests with 30 trees and depth 125\n",
      "0.935557508728 0.652713689299\n",
      "Scores for forests with 50 trees and depth 125\n",
      "0.943516687419 0.657181571816\n",
      "Scores for forests with 75 trees and depth 125\n",
      "0.945518689421 0.658170365487\n",
      "Scores for forests with 100 trees and depth 125\n",
      "0.947874703972 0.65846334139\n"
     ]
    }
   ],
   "source": [
    "tscores=[]\n",
    "cvscores=[]\n",
    "for jd in deps:\n",
    "    for jt in n_t:\n",
    "        print('Scores for forests with ' + str(jt) + ' trees and depth ' + str(jd))\n",
    "        fn = 'Forest_'+str(jt)+'_'+str(jd)\n",
    "        with open(fn, 'rb') as input:\n",
    "            myrfc = pickle.load(input)\n",
    "            tscores.append(myrfc.score(X_train,y_train))\n",
    "            cvscores.append(myrfc.score(X_CV,y_CV))\n",
    "            print(myrfc.score(X_train,y_train),myrfc.score(X_CV,y_CV))"
   ]
  },
  {
   "cell_type": "code",
   "execution_count": 9,
   "metadata": {
    "collapsed": false
   },
   "outputs": [
    {
     "data": {
      "image/png": "[encoded data removed]",
      "text/plain": [
       "<matplotlib.figure.Figure at 0x7fd7349c4cf8>"
      ]
     },
     "metadata": {},
     "output_type": "display_data"
    }
   ],
   "source": [
    "fig = plt.figure()\n",
    "ax = fig.add_axes([.1,.1,1.2,1.2])\n",
    "ax.scatter(n_t,tscores[0:8],color=\"green\")\n",
    "ax.scatter(n_t,cvscores[0:8], color=\"green\")\n",
    "ax.scatter(n_t,tscores[8:16],color=\"red\")\n",
    "ax.scatter(n_t,cvscores[8:16], color=\"red\")\n",
    "ax.scatter(n_t,tscores[16:24],color=\"blue\")\n",
    "ax.scatter(n_t,cvscores[16:24], color=\"blue\")\n",
    "ax.scatter(n_t,tscores[24:32],color=\"magenta\")\n",
    "ax.scatter(n_t,cvscores[24:32], color=\"magenta\")\n",
    "ax.scatter(n_t,tscores[32:40],color=\"black\")\n",
    "ax.scatter(n_t,cvscores[32:40], color=\"black\")\n",
    "plt.show()"
   ]
  },
  {
   "cell_type": "code",
   "execution_count": 12,
   "metadata": {
    "collapsed": false
   },
   "outputs": [
    {
     "data": {
      "text/plain": [
       "0.65846334139017071"
      ]
     },
     "execution_count": 12,
     "metadata": {},
     "output_type": "execute_result"
    }
   ],
   "source": [
    "max(cvscores)"
   ]
  },
  {
   "cell_type": "code",
   "execution_count": null,
   "metadata": {
    "collapsed": true
   },
   "outputs": [],
   "source": []
  }
 ],
 "metadata": {
  "anaconda-cloud": {},
  "kernelspec": {
   "display_name": "Python [conda root]",
   "language": "python",
   "name": "conda-root-py"
  },
  "language_info": {
   "codemirror_mode": {
    "name": "ipython",
    "version": 3
   },
   "file_extension": ".py",
   "mimetype": "text/x-python",
   "name": "python",
   "nbconvert_exporter": "python",
   "pygments_lexer": "ipython3",
   "version": "3.5.2"
  }
 },
 "nbformat": 4,
 "nbformat_minor": 0
}
