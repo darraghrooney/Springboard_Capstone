{
 "cells": [
  {
   "cell_type": "code",
   "execution_count": 1,
   "metadata": {
    "collapsed": false
   },
   "outputs": [],
   "source": [
    "import numpy as np\n",
    "loader_train=np.load( 'data/SmallTraining.npz' )\n",
    "loader_cv=np.load( 'data/SmallCV.npz' )\n",
    "from sklearn.linear_model import LogisticRegression"
   ]
  },
  {
   "cell_type": "code",
   "execution_count": 2,
   "metadata": {
    "collapsed": false
   },
   "outputs": [],
   "source": [
    "X_train=loader_train['features']\n",
    "y_train=loader_train['indicator']\n",
    "X_cv=loader_cv['features']\n",
    "y_cv=loader_cv['indicator']\n"
   ]
  },
  {
   "cell_type": "code",
   "execution_count": 4,
   "metadata": {
    "collapsed": true
   },
   "outputs": [],
   "source": [
    "for j in range(0,6):\n",
    "    X[:,j]=(X[:,j]-X[:,j].mean())/X[:,j].std()"
   ]
  },
  {
   "cell_type": "code",
   "execution_count": 16,
   "metadata": {
    "collapsed": false
   },
   "outputs": [
    {
     "name": "stdout",
     "output_type": "stream",
     "text": [
      "[ 0.00443102] [[ 0.06521818 -0.0614986 ]] 0.601552772284\n",
      "[-0.01263942] [[ 0.14957049 -0.14602693]] 0.607973827486\n",
      "[-0.07618925] [[ 0.26878254 -0.26680923]] 0.612099904783\n",
      "[-0.16233996] [[ 0.37980053 -0.37122015]] 0.614285016724\n",
      "[-0.22045284] [[ 0.44627634 -0.4281834 ]] 0.614089699456\n",
      "[-0.2459406] [[ 0.47446169 -0.45105295]] 0.614138528773\n",
      "[-0.25502844] [[ 0.48441285 -0.45895043]] 0.614468126663\n",
      "[-0.2580342] [[ 0.48768942 -0.4615515 ]] 0.614407090017\n",
      "[-0.2589929] [[ 0.488735   -0.46237326]] 0.614419297346\n",
      "[-0.25929732] [[ 0.48906691 -0.46263392]] 0.614297224053\n",
      "[-0.25939371] [[ 0.489172   -0.46271643]] 0.614297224053\n",
      "[-0.25942421] [[ 0.48920525 -0.46274253]] 0.614321638712\n",
      "[-0.25943385] [[ 0.48921576 -0.46275078]] 0.614321638712\n",
      "[-0.2594369] [[ 0.48921909 -0.46275339]] 0.614321638712\n",
      "[-0.25943787] [[ 0.48922014 -0.46275422]] 0.614321638712\n",
      "[-0.25943817] [[ 0.48922047 -0.46275448]] 0.614321638712\n",
      "[-0.25943827] [[ 0.48922057 -0.46275456]] 0.614321638712\n",
      "[-0.2594383] [[ 0.48922061 -0.46275459]] 0.614321638712\n",
      "[-0.25943831] [[ 0.48922062 -0.4627546 ]] 0.614321638712\n",
      "[-0.25943831] [[ 0.48922062 -0.4627546 ]] 0.614321638712\n"
     ]
    }
   ],
   "source": [
    "for j in range(-10,10):\n",
    "    C=pow(10, j/2.)\n",
    "    SLR = LogisticRegression(C = C)\n",
    "    SLR.fit(X[:,0:2],y)\n",
    "    print SLR.intercept_, SLR.coef_, SLR.score(X[:,0:2],y)"
   ]
  },
  {
   "cell_type": "code",
   "execution_count": 37,
   "metadata": {
    "collapsed": false
   },
   "outputs": [
    {
     "name": "stdout",
     "output_type": "stream",
     "text": [
      " [ 0.07295645] [[ 0.45163159]] 0.588344442003\n"
     ]
    }
   ],
   "source": [
    "print SLR.intercept_, SLR.coef_, SLR.score(X[:,0:1],y)"
   ]
  },
  {
   "cell_type": "code",
   "execution_count": 29,
   "metadata": {
    "collapsed": false
   },
   "outputs": [
    {
     "data": {
      "text/plain": [
       "0.69999999999999996"
      ]
     },
     "execution_count": 29,
     "metadata": {},
     "output_type": "execute_result"
    }
   ],
   "source": [
    "LR.score(X.reshape(-1,1),y)"
   ]
  },
  {
   "cell_type": "code",
   "execution_count": 30,
   "metadata": {
    "collapsed": false
   },
   "outputs": [
    {
     "data": {
      "text/plain": [
       "-3.3534359205851998"
      ]
     },
     "execution_count": 30,
     "metadata": {},
     "output_type": "execute_result"
    }
   ],
   "source": [
    "-4*np.log( 1+np.exp(-LR.intercept_[0]) )-6*np.log( 1+np.exp(-LR.intercept_[0]-LR.coef_[0,0]) )"
   ]
  },
  {
   "cell_type": "code",
   "execution_count": 45,
   "metadata": {
    "collapsed": false
   },
   "outputs": [
    {
     "data": {
      "text/plain": [
       "array([[-1.38427622, -0.28835569],\n",
       "       [-1.38427622, -0.28835569],\n",
       "       [-1.38427622, -0.28835569],\n",
       "       [-1.38427622, -0.28835569],\n",
       "       [-1.38427622, -0.28835569],\n",
       "       [-1.38427622, -0.28835569],\n",
       "       [-1.38427622, -0.28835569],\n",
       "       [-1.38427622, -0.28835569],\n",
       "       [-1.09789201, -0.40582544],\n",
       "       [-1.09789201, -0.40582544],\n",
       "       [-1.09789201, -0.40582544],\n",
       "       [-1.09789201, -0.40582544],\n",
       "       [-1.09789201, -0.40582544],\n",
       "       [-1.09789201, -0.40582544],\n",
       "       [-1.09789201, -0.40582544],\n",
       "       [-1.09789201, -0.40582544],\n",
       "       [-1.09789201, -0.40582544],\n",
       "       [-1.09789201, -0.40582544],\n",
       "       [-1.09789201, -0.40582544],\n",
       "       [-1.09789201, -0.40582544]])"
      ]
     },
     "execution_count": 45,
     "metadata": {},
     "output_type": "execute_result"
    }
   ],
   "source": [
    "LR.predict_log_proba(X.reshape(-1,1))"
   ]
  },
  {
   "cell_type": "code",
   "execution_count": 47,
   "metadata": {
    "collapsed": false
   },
   "outputs": [
    {
     "data": {
      "text/plain": [
       "-0.40546510810816444"
      ]
     },
     "execution_count": 47,
     "metadata": {},
     "output_type": "execute_result"
    }
   ],
   "source": [
    "np.log(2/3.)"
   ]
  },
  {
   "cell_type": "code",
   "execution_count": 42,
   "metadata": {
    "collapsed": false
   },
   "outputs": [
    {
     "data": {
      "text/plain": [
       "-0.6931471805599454"
      ]
     },
     "execution_count": 42,
     "metadata": {},
     "output_type": "execute_result"
    }
   ],
   "source": [
    "np.log(2/3.)+np.log(3/4.)"
   ]
  },
  {
   "cell_type": "code",
   "execution_count": 92,
   "metadata": {
    "collapsed": false
   },
   "outputs": [
    {
     "ename": "IOError",
     "evalue": "[Errno 2] No such file or directory: '../data/CV.npz'",
     "output_type": "error",
     "traceback": [
      "\u001b[1;31m---------------------------------------------------------------------------\u001b[0m",
      "\u001b[1;31mIOError\u001b[0m                                   Traceback (most recent call last)",
      "\u001b[1;32m<ipython-input-92-93847b38942b>\u001b[0m in \u001b[0;36m<module>\u001b[1;34m()\u001b[0m\n\u001b[1;32m----> 1\u001b[1;33m \u001b[0mnp\u001b[0m\u001b[1;33m.\u001b[0m\u001b[0mload\u001b[0m\u001b[1;33m(\u001b[0m\u001b[1;34m'../data/CV.npz'\u001b[0m\u001b[1;33m)\u001b[0m\u001b[1;33m\u001b[0m\u001b[0m\n\u001b[0m",
      "\u001b[1;32mC:\\Users\\Paddy McRoonahan\\Anaconda2\\lib\\site-packages\\numpy\\lib\\npyio.pyc\u001b[0m in \u001b[0;36mload\u001b[1;34m(file, mmap_mode, allow_pickle, fix_imports, encoding)\u001b[0m\n\u001b[0;32m    360\u001b[0m     \u001b[0mown_fid\u001b[0m \u001b[1;33m=\u001b[0m \u001b[0mFalse\u001b[0m\u001b[1;33m\u001b[0m\u001b[0m\n\u001b[0;32m    361\u001b[0m     \u001b[1;32mif\u001b[0m \u001b[0misinstance\u001b[0m\u001b[1;33m(\u001b[0m\u001b[0mfile\u001b[0m\u001b[1;33m,\u001b[0m \u001b[0mbasestring\u001b[0m\u001b[1;33m)\u001b[0m\u001b[1;33m:\u001b[0m\u001b[1;33m\u001b[0m\u001b[0m\n\u001b[1;32m--> 362\u001b[1;33m         \u001b[0mfid\u001b[0m \u001b[1;33m=\u001b[0m \u001b[0mopen\u001b[0m\u001b[1;33m(\u001b[0m\u001b[0mfile\u001b[0m\u001b[1;33m,\u001b[0m \u001b[1;34m\"rb\"\u001b[0m\u001b[1;33m)\u001b[0m\u001b[1;33m\u001b[0m\u001b[0m\n\u001b[0m\u001b[0;32m    363\u001b[0m         \u001b[0mown_fid\u001b[0m \u001b[1;33m=\u001b[0m \u001b[0mTrue\u001b[0m\u001b[1;33m\u001b[0m\u001b[0m\n\u001b[0;32m    364\u001b[0m     \u001b[1;32melse\u001b[0m\u001b[1;33m:\u001b[0m\u001b[1;33m\u001b[0m\u001b[0m\n",
      "\u001b[1;31mIOError\u001b[0m: [Errno 2] No such file or directory: '../data/CV.npz'"
     ]
    }
   ],
   "source": [
    "np.load('../data/CV.npz')"
   ]
  },
  {
   "cell_type": "code",
   "execution_count": 89,
   "metadata": {
    "collapsed": false
   },
   "outputs": [],
   "source": [
    "np.savez('TTeeSStt.npz', np.array([0,1]))"
   ]
  },
  {
   "cell_type": "code",
   "execution_count": null,
   "metadata": {
    "collapsed": true
   },
   "outputs": [],
   "source": []
  }
 ],
 "metadata": {
  "kernelspec": {
   "display_name": "Python 2",
   "language": "python",
   "name": "python2"
  },
  "language_info": {
   "codemirror_mode": {
    "name": "ipython",
    "version": 2
   },
   "file_extension": ".py",
   "mimetype": "text/x-python",
   "name": "python",
   "nbconvert_exporter": "python",
   "pygments_lexer": "ipython2",
   "version": "2.7.6"
  }
 },
 "nbformat": 4,
 "nbformat_minor": 0
}
