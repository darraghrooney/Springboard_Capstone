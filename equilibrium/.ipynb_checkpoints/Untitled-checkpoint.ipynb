{
 "cells": [
  {
   "cell_type": "code",
   "execution_count": 115,
   "metadata": {
    "collapsed": false
   },
   "outputs": [
    {
     "data": {
      "text/plain": [
       "['away_OI_sal',\n",
       " 'is_for_home',\n",
       " 'attempt_type',\n",
       " 'home_OI_PT',\n",
       " 'home_OI_sal',\n",
       " 'training_matrix_data',\n",
       " 'training_ind',\n",
       " 'training_matrix_shape',\n",
       " 'away_OI_PT',\n",
       " 'training_matrix_indptr',\n",
       " 'non_goalies',\n",
       " 'training_matrix_indices']"
      ]
     },
     "execution_count": 115,
     "metadata": {},
     "output_type": "execute_result"
    }
   ],
   "source": [
    "import numpy as np\n",
    "import pandas as pd\n",
    "np.load( '../data/csr_Training.npz').keys()"
   ]
  },
  {
   "cell_type": "code",
   "execution_count": 167,
   "metadata": {
    "collapsed": false
   },
   "outputs": [],
   "source": [
    "class Equilibrium(object):\n",
    "\n",
    "    fm_fn = '../data/Forces.npz'\n",
    "    train_fn = '../data/csr_Training.npz'\n",
    "    eq_fn = '../data/Equilibrium.csv'\n",
    "    feat_fn = '../data/Eq_Features.csv'\n",
    "    force_matrix = np.load(fm_fn)['force_matrix']\n",
    "    equilibrium_r = np.zeros( [force_matrix.shape[1], 1] )\n",
    "    adjust_CF = np.zeros( [force_matrix.shape[1], 1] )\n",
    "    features = pd.DataFrame()\n",
    "\n",
    "    def FindEq(self):\n",
    "        b = np.zeros([self.force_matrix.shape[0], 1])\n",
    "        b[ self.force_matrix.shape[0] - 1, 0 ] = self.force_matrix.shape[1]\n",
    "        self.equilibrium_r = np.linalg.lstsq(self.force_matrix, b)[0]\n",
    "        \n",
    "    def AdjustCF(self):\n",
    "        self.adjust_CF = self.equilibrium_r / (self.equilibrium_r + 1)\n",
    "        \n",
    "    def Save(self):\n",
    "        df = pd.DataFrame( np.append(self.equilibrium_r, self.adjust_CF, axis = 1 ), \n",
    "            columns = ['Equilibrium ratio', 'Adjusted CF'], index = np.load(self.train_fn)['non_goalies'])\n",
    "        df.to_csv(self.eq_fn)\n",
    "\n",
    "    def CreateFeatures(self):\n",
    "        loader = np.load( self.train_fn)\n",
    "        att_matrix = csr_matrix((loader['training_matrix_data'],loader['training_matrix_indices'],\n",
    "            loader['training_matrix_indptr']), shape = loader['training_matrix_shape'])\n",
    "\n",
    "        home_feature = list()\n",
    "        away_feature = list()\n",
    "        \n",
    "        for j in range(0,att_matrix.shape[0]):\n",
    "            if (j-1)%10000 == 0:\n",
    "                print 'Processing attempt {}'.format(j-1)\n",
    "            att = att_matrix.getrow(j)\n",
    "            sum_home_r = 0\n",
    "            sum_away_r = 0\n",
    "            \n",
    "            for i in att.indices:\n",
    "                if i < self.equilibrium_r.shape[0]:\n",
    "                    sum_home_r += self.equilibrium_r[i]\n",
    "                else:\n",
    "                    sum_away_r += self.equilibrium_r[i - self.equilibrium_r.shape[0]]\n",
    "            home_feature.append(sum_home_r)\n",
    "            away_feature.append(sum_away_r)\n",
    "            \n",
    "        self.features = pd.DataFrame([self.home_features, self.away_features], \n",
    "                                     columns = ['Sum of home r', 'Sum of away r'])\n",
    "        print self.features\n",
    "#        self.features.to_csv(feat_fn)"
   ]
  },
  {
   "cell_type": "code",
   "execution_count": 168,
   "metadata": {
    "collapsed": false
   },
   "outputs": [],
   "source": [
    "Eq = Equilibrium()\n",
    "Eq.FindEq()\n",
    "Eq.AdjustCF()"
   ]
  },
  {
   "cell_type": "code",
   "execution_count": 169,
   "metadata": {
    "collapsed": false
   },
   "outputs": [
    {
     "name": "stdout",
     "output_type": "stream",
     "text": [
      "Processing attempt 0\n",
      "Processing attempt 10000\n",
      "Processing attempt 20000\n",
      "Processing attempt 30000\n",
      "Processing attempt 40000\n",
      "Processing attempt 50000\n",
      "Processing attempt 60000\n",
      "Processing attempt 70000\n",
      "Processing attempt 80000\n"
     ]
    },
    {
     "ename": "NameError",
     "evalue": "global name 'home_features' is not defined",
     "output_type": "error",
     "traceback": [
      "\u001b[0;31m---------------------------------------------------------------------------\u001b[0m",
      "\u001b[0;31mNameError\u001b[0m                                 Traceback (most recent call last)",
      "\u001b[0;32m<ipython-input-169-372949f571df>\u001b[0m in \u001b[0;36m<module>\u001b[0;34m()\u001b[0m\n\u001b[1;32m      1\u001b[0m \u001b[0;32mfrom\u001b[0m \u001b[0mscipy\u001b[0m\u001b[0;34m.\u001b[0m\u001b[0msparse\u001b[0m \u001b[0;32mimport\u001b[0m \u001b[0;34m*\u001b[0m\u001b[0;34m\u001b[0m\u001b[0m\n\u001b[0;32m----> 2\u001b[0;31m \u001b[0mhf\u001b[0m\u001b[0;34m,\u001b[0m \u001b[0msf\u001b[0m \u001b[0;34m=\u001b[0m \u001b[0mEq\u001b[0m\u001b[0;34m.\u001b[0m\u001b[0mCreateFeatures\u001b[0m\u001b[0;34m(\u001b[0m\u001b[0;34m)\u001b[0m\u001b[0;34m\u001b[0m\u001b[0m\n\u001b[0m",
      "\u001b[0;32m<ipython-input-167-ffa91327f89e>\u001b[0m in \u001b[0;36mCreateFeatures\u001b[0;34m(self)\u001b[0m\n\u001b[1;32m     45\u001b[0m             \u001b[0maway_feature\u001b[0m\u001b[0;34m.\u001b[0m\u001b[0mappend\u001b[0m\u001b[0;34m(\u001b[0m\u001b[0msum_away_r\u001b[0m\u001b[0;34m)\u001b[0m\u001b[0;34m\u001b[0m\u001b[0m\n\u001b[1;32m     46\u001b[0m \u001b[0;34m\u001b[0m\u001b[0m\n\u001b[0;32m---> 47\u001b[0;31m         \u001b[0mself\u001b[0m\u001b[0;34m.\u001b[0m\u001b[0mfeatures\u001b[0m \u001b[0;34m=\u001b[0m \u001b[0mpd\u001b[0m\u001b[0;34m.\u001b[0m\u001b[0mDataFrame\u001b[0m\u001b[0;34m(\u001b[0m\u001b[0;34m[\u001b[0m\u001b[0mhome_features\u001b[0m\u001b[0;34m,\u001b[0m \u001b[0maway_features\u001b[0m\u001b[0;34m]\u001b[0m\u001b[0;34m,\u001b[0m \u001b[0mcolumns\u001b[0m \u001b[0;34m=\u001b[0m \u001b[0;34m[\u001b[0m\u001b[0;34m'Sum of home r'\u001b[0m\u001b[0;34m,\u001b[0m \u001b[0;34m'Sum of away r'\u001b[0m\u001b[0;34m]\u001b[0m\u001b[0;34m)\u001b[0m\u001b[0;34m\u001b[0m\u001b[0m\n\u001b[0m\u001b[1;32m     48\u001b[0m         \u001b[0;32mprint\u001b[0m \u001b[0mself\u001b[0m\u001b[0;34m.\u001b[0m\u001b[0mfeatures\u001b[0m\u001b[0;34m\u001b[0m\u001b[0m\n",
      "\u001b[0;31mNameError\u001b[0m: global name 'home_features' is not defined"
     ]
    }
   ],
   "source": [
    "from scipy.sparse import *\n",
    "hf, sf = Eq.CreateFeatures()"
   ]
  }
 ],
 "metadata": {
  "kernelspec": {
   "display_name": "Python 2",
   "language": "python",
   "name": "python2"
  },
  "language_info": {
   "codemirror_mode": {
    "name": "ipython",
    "version": 2
   },
   "file_extension": ".py",
   "mimetype": "text/x-python",
   "name": "python",
   "nbconvert_exporter": "python",
   "pygments_lexer": "ipython2",
   "version": "2.7.6"
  }
 },
 "nbformat": 4,
 "nbformat_minor": 0
}
