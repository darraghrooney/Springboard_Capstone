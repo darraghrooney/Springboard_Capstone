{
 "cells": [
  {
   "cell_type": "code",
   "execution_count": 1,
   "metadata": {
    "collapsed": false
   },
   "outputs": [],
   "source": [
    "import numpy as np\n",
    "import pandas as pd\n",
    "import os\n",
    "os.listdir('../data')\n",
    "eq = pd.read_csv('../data/Equilibrium.csv')"
   ]
  },
  {
   "cell_type": "code",
   "execution_count": 2,
   "metadata": {
    "collapsed": false
   },
   "outputs": [
    {
     "name": "stdout",
     "output_type": "stream",
     "text": [
      "Using matplotlib backend: TkAgg\n"
     ]
    }
   ],
   "source": [
    "%matplotlib\n",
    "%matplotlib inline\n",
    "\n",
    "import matplotlib.pyplot as plt\n"
   ]
  },
  {
   "cell_type": "code",
   "execution_count": 3,
   "metadata": {
    "collapsed": false
   },
   "outputs": [],
   "source": [
    "import eq_logistic as el"
   ]
  },
  {
   "cell_type": "code",
   "execution_count": 8,
   "metadata": {
    "collapsed": false
   },
   "outputs": [
    {
     "name": "stdout",
     "output_type": "stream",
     "text": [
      "0.60926780439 0.671582784139\n"
     ]
    },
    {
     "name": "stderr",
     "output_type": "stream",
     "text": [
      "/usr/local/lib/python2.7/dist-packages/sklearn/utils/optimize.py:193: UserWarning: Line Search failed\n",
      "  warnings.warn('Line Search failed')\n"
     ]
    },
    {
     "name": "stdout",
     "output_type": "stream",
     "text": [
      "0.612258600063 0.655369987766\n",
      "0.612063282795 0.645115008043\n",
      "0.611660440929 0.642052557376\n",
      "0.611684855587 0.64153533265\n",
      "0.611538367636 0.641471824738\n",
      "0.611526160307 0.641465008153\n",
      "0.611526160307 0.641464310587\n",
      "0.611526160307 0.641464240315\n",
      "0.611526160307 0.641464233271\n",
      "0.611526160307 0.641464232566\n",
      "0.611526160307 0.641464232496\n",
      "0.611526160307 0.641464232489\n",
      "0.611526160307 0.641464232488\n",
      "0.611526160307 0.641464232488\n",
      "0.611526160307 0.641464232488\n",
      "0.611526160307 0.641464232488\n",
      "0.611526160307 0.641464232488\n",
      "0.611526160307 0.641464232488\n",
      "0.611526160307 0.641464232488\n"
     ]
    }
   ],
   "source": [
    "for j in range(-10,10):\n",
    "    EqLR = el.eq_logistic(C=pow(10,j/2.))\n",
    "    EqLR.fit()\n",
    "    print EqLR.train_score(), EqLR.train_ce()\n"
   ]
  },
  {
   "cell_type": "code",
   "execution_count": 24,
   "metadata": {
    "collapsed": false
   },
   "outputs": [
    {
     "data": {
      "text/html": [
       "<div style=\"max-height:1000px;max-width:1500px;overflow:auto;\">\n",
       "<table border=\"1\" class=\"dataframe\">\n",
       "  <thead>\n",
       "    <tr style=\"text-align: right;\">\n",
       "      <th></th>\n",
       "      <th>Unnamed: 0</th>\n",
       "      <th>Equilibrium ratio</th>\n",
       "      <th>Adjusted CF</th>\n",
       "    </tr>\n",
       "  </thead>\n",
       "  <tbody>\n",
       "    <tr>\n",
       "      <th>671</th>\n",
       "      <td>  PATRIC HORNQVIST</td>\n",
       "      <td> 1.811492</td>\n",
       "      <td> 0.644317</td>\n",
       "    </tr>\n",
       "    <tr>\n",
       "      <th>882</th>\n",
       "      <td>  WILLIAM NYLANDER</td>\n",
       "      <td> 1.819303</td>\n",
       "      <td> 0.645302</td>\n",
       "    </tr>\n",
       "    <tr>\n",
       "      <th>880</th>\n",
       "      <td>    WAYNE SIMMONDS</td>\n",
       "      <td> 1.821807</td>\n",
       "      <td> 0.645617</td>\n",
       "    </tr>\n",
       "    <tr>\n",
       "      <th>91 </th>\n",
       "      <td>        BRAD BOYES</td>\n",
       "      <td> 1.844988</td>\n",
       "      <td> 0.648505</td>\n",
       "    </tr>\n",
       "    <tr>\n",
       "      <th>692</th>\n",
       "      <td>     PAVEL DATSYUK</td>\n",
       "      <td> 1.853212</td>\n",
       "      <td> 0.649518</td>\n",
       "    </tr>\n",
       "    <tr>\n",
       "      <th>697</th>\n",
       "      <td>       PHIL KESSEL</td>\n",
       "      <td> 1.868162</td>\n",
       "      <td> 0.651345</td>\n",
       "    </tr>\n",
       "    <tr>\n",
       "      <th>287</th>\n",
       "      <td>     EMILE POIRIER</td>\n",
       "      <td> 1.869244</td>\n",
       "      <td> 0.651476</td>\n",
       "    </tr>\n",
       "    <tr>\n",
       "      <th>833</th>\n",
       "      <td>       TOMAS TATAR</td>\n",
       "      <td> 1.874396</td>\n",
       "      <td> 0.652101</td>\n",
       "    </tr>\n",
       "    <tr>\n",
       "      <th>213</th>\n",
       "      <td>      COREY POTTER</td>\n",
       "      <td> 1.882888</td>\n",
       "      <td> 0.653126</td>\n",
       "    </tr>\n",
       "    <tr>\n",
       "      <th>543</th>\n",
       "      <td> MATHIEU PERREAULT</td>\n",
       "      <td> 1.891345</td>\n",
       "      <td> 0.654140</td>\n",
       "    </tr>\n",
       "    <tr>\n",
       "      <th>447</th>\n",
       "      <td>        JOSH LEIVO</td>\n",
       "      <td> 1.896433</td>\n",
       "      <td> 0.654748</td>\n",
       "    </tr>\n",
       "    <tr>\n",
       "      <th>398</th>\n",
       "      <td>      JOE THORNTON</td>\n",
       "      <td> 1.928957</td>\n",
       "      <td> 0.658582</td>\n",
       "    </tr>\n",
       "    <tr>\n",
       "      <th>115</th>\n",
       "      <td>   BRENDAN LEIPSIC</td>\n",
       "      <td> 2.278954</td>\n",
       "      <td> 0.695025</td>\n",
       "    </tr>\n",
       "    <tr>\n",
       "      <th>166</th>\n",
       "      <td>       CHRIS BROWN</td>\n",
       "      <td> 2.527756</td>\n",
       "      <td> 0.716534</td>\n",
       "    </tr>\n",
       "    <tr>\n",
       "      <th>328</th>\n",
       "      <td> HARRY ZOLNIERCZYK</td>\n",
       "      <td> 3.137606</td>\n",
       "      <td> 0.758314</td>\n",
       "    </tr>\n",
       "    <tr>\n",
       "      <th>303</th>\n",
       "      <td>    EVAN RODRIGUES</td>\n",
       "      <td> 3.664006</td>\n",
       "      <td> 0.785592</td>\n",
       "    </tr>\n",
       "    <tr>\n",
       "      <th>386</th>\n",
       "      <td>      JEREMY WELSH</td>\n",
       "      <td> 4.091316</td>\n",
       "      <td> 0.803587</td>\n",
       "    </tr>\n",
       "    <tr>\n",
       "      <th>586</th>\n",
       "      <td> MICHAEL SGARBOSSA</td>\n",
       "      <td> 5.945334</td>\n",
       "      <td> 0.856018</td>\n",
       "    </tr>\n",
       "    <tr>\n",
       "      <th>355</th>\n",
       "      <td>  JAMES WISNIEWSKI</td>\n",
       "      <td> 6.352386</td>\n",
       "      <td> 0.863990</td>\n",
       "    </tr>\n",
       "    <tr>\n",
       "      <th>673</th>\n",
       "      <td>   PATRICE CORMIER</td>\n",
       "      <td> 9.623250</td>\n",
       "      <td> 0.905867</td>\n",
       "    </tr>\n",
       "  </tbody>\n",
       "</table>\n",
       "<p>20 rows × 3 columns</p>\n",
       "</div>"
      ],
      "text/plain": [
       "            Unnamed: 0  Equilibrium ratio  Adjusted CF\n",
       "671   PATRIC HORNQVIST           1.811492     0.644317\n",
       "882   WILLIAM NYLANDER           1.819303     0.645302\n",
       "880     WAYNE SIMMONDS           1.821807     0.645617\n",
       "91          BRAD BOYES           1.844988     0.648505\n",
       "692      PAVEL DATSYUK           1.853212     0.649518\n",
       "697        PHIL KESSEL           1.868162     0.651345\n",
       "287      EMILE POIRIER           1.869244     0.651476\n",
       "833        TOMAS TATAR           1.874396     0.652101\n",
       "213       COREY POTTER           1.882888     0.653126\n",
       "543  MATHIEU PERREAULT           1.891345     0.654140\n",
       "447         JOSH LEIVO           1.896433     0.654748\n",
       "398       JOE THORNTON           1.928957     0.658582\n",
       "115    BRENDAN LEIPSIC           2.278954     0.695025\n",
       "166        CHRIS BROWN           2.527756     0.716534\n",
       "328  HARRY ZOLNIERCZYK           3.137606     0.758314\n",
       "303     EVAN RODRIGUES           3.664006     0.785592\n",
       "386       JEREMY WELSH           4.091316     0.803587\n",
       "586  MICHAEL SGARBOSSA           5.945334     0.856018\n",
       "355   JAMES WISNIEWSKI           6.352386     0.863990\n",
       "673    PATRICE CORMIER           9.623250     0.905867\n",
       "\n",
       "[20 rows x 3 columns]"
      ]
     },
     "execution_count": 24,
     "metadata": {},
     "output_type": "execute_result"
    }
   ],
   "source": [
    "eq.sort('Equilibrium ratio').tail(20)"
   ]
  },
  {
   "cell_type": "code",
   "execution_count": 7,
   "metadata": {
    "collapsed": false
   },
   "outputs": [
    {
     "data": {
      "text/plain": [
       "0.64146423256636209"
      ]
     },
     "execution_count": 7,
     "metadata": {},
     "output_type": "execute_result"
    }
   ],
   "source": [
    "EqLR.train_ce()"
   ]
  },
  {
   "cell_type": "code",
   "execution_count": 26,
   "metadata": {
    "collapsed": false
   },
   "outputs": [],
   "source": [
    "loader=np.load('../data/Training.npz')\n"
   ]
  },
  {
   "cell_type": "code",
   "execution_count": 43,
   "metadata": {
    "collapsed": false
   },
   "outputs": [
    {
     "data": {
      "text/plain": [
       "{107426}"
      ]
     },
     "execution_count": 43,
     "metadata": {},
     "output_type": "execute_result"
    }
   ],
   "source": [
    "set(loader['home_indices']) & set(att_mat.getcol(443).indices) "
   ]
  },
  {
   "cell_type": "code",
   "execution_count": 29,
   "metadata": {
    "collapsed": false
   },
   "outputs": [],
   "source": [
    "import sklearn.neural_network as snn"
   ]
  },
  {
   "cell_type": "code",
   "execution_count": 31,
   "metadata": {
    "collapsed": false
   },
   "outputs": [
    {
     "ename": "SyntaxError",
     "evalue": "invalid syntax (<ipython-input-31-f747d83d8ecb>, line 1)",
     "output_type": "error",
     "traceback": [
      "\u001b[0;36m  File \u001b[0;32m\"<ipython-input-31-f747d83d8ecb>\"\u001b[0;36m, line \u001b[0;32m1\u001b[0m\n\u001b[0;31m    import scikit-neuralnetwork\u001b[0m\n\u001b[0m                 ^\u001b[0m\n\u001b[0;31mSyntaxError\u001b[0m\u001b[0;31m:\u001b[0m invalid syntax\n"
     ]
    }
   ],
   "source": [
    "import scikit-neuralnetwork"
   ]
  },
  {
   "cell_type": "code",
   "execution_count": 33,
   "metadata": {
    "collapsed": true
   },
   "outputs": [],
   "source": [
    "import sknn.mlp as mlp\n"
   ]
  },
  {
   "cell_type": "code",
   "execution_count": 40,
   "metadata": {
    "collapsed": false
   },
   "outputs": [],
   "source": [
    "lay=mlp.Layer('Softmax')"
   ]
  },
  {
   "cell_type": "code",
   "execution_count": 43,
   "metadata": {
    "collapsed": false
   },
   "outputs": [],
   "source": [
    "clf=mlp.Classifier([lay])"
   ]
  },
  {
   "cell_type": "code",
   "execution_count": null,
   "metadata": {
    "collapsed": true
   },
   "outputs": [],
   "source": []
  }
 ],
 "metadata": {
  "kernelspec": {
   "display_name": "Python 2",
   "language": "python",
   "name": "python2"
  },
  "language_info": {
   "codemirror_mode": {
    "name": "ipython",
    "version": 2
   },
   "file_extension": ".py",
   "mimetype": "text/x-python",
   "name": "python",
   "nbconvert_exporter": "python",
   "pygments_lexer": "ipython2",
   "version": "2.7.6"
  }
 },
 "nbformat": 4,
 "nbformat_minor": 0
}
